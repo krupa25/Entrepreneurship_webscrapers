{
 "cells": [
  {
   "cell_type": "code",
   "execution_count": 3,
   "metadata": {},
   "outputs": [],
   "source": [
    "from selenium import webdriver\n",
    "import pandas as pd\n",
    "import bs4"
   ]
  },
  {
   "cell_type": "code",
   "execution_count": 4,
   "metadata": {},
   "outputs": [],
   "source": [
    "driver = webdriver.Chrome('C:/Users/My PC/Downloads/chromedriver')\n",
    "driver.get(\"https://www.fastcompany.com/leadership\")"
   ]
  },
  {
   "cell_type": "code",
   "execution_count": 51,
   "metadata": {},
   "outputs": [
    {
     "name": "stdout",
     "output_type": "stream",
     "text": [
      "WORK LIFE\n",
      "This is how to make the ‘slow work’ movement work for you\n",
      "The “always-on” style of work takes a toll on one’s mental and physical health. It’s time for a different approach.\n",
      "https://www.fastcompany.com/90405453/this-is-how-to-make-the-slow-work-movement-work-for-you\n",
      "----------------------------------------------------------------------\n",
      "WORK LIFE\n",
      "Exclusive: Barclays and Anthemis launch startup studio for female founders\n",
      "After nearly a decade of investing in fintech, venture capital firm Anthemis is betting the studio model can diversify the sector more quickly.\n",
      "https://www.fastcompany.com/90405698/exclusive-barclays-and-anthemis-launch-startup-studio-for-female-founders\n",
      "----------------------------------------------------------------------\n",
      "WORK LIFE\n",
      "4 interview mistakes you probably didn’t realize you were making\n",
      "Don’t regurgitate your résumé.\n",
      "https://www.fastcompany.com/90405322/4-common-interview-mistakes-made-by-interviewees\n",
      "----------------------------------------------------------------------\n",
      "WORK LIFE\n",
      "Advice for founders dealing with defensive or troubled employees\n",
      "Two founders are grappling with very different worker issues, but both cases call for empathy.\n",
      "https://www.fastcompany.com/90404994/advice-for-founders-dealing-with-defensive-or-troubled-employees\n",
      "----------------------------------------------------------------------\n",
      "WORK LIFE\n",
      "How my Latinx upbringing made me a better leader\n",
      "Chief people officer at Intel Sandra Rivera reflects on growing up Hispanic and what that taught her about business success.\n",
      "https://www.fastcompany.com/90405208/how-my-latinx-upbringing-made-me-a-better-leader\n",
      "----------------------------------------------------------------------\n",
      "WORK LIFE\n",
      "5 ways emotionally intelligent people deal with impostor syndrome\n",
      "Emotional intelligence can help you shake impostor syndrome faster. Here’s how.\n",
      "https://www.fastcompany.com/90405013/5-ways-emotionally-intelligent-people-deal-with-impostor-syndrome\n",
      "----------------------------------------------------------------------\n",
      "WORK LIFE\n",
      "The secrets to managing your boss (no matter what type of boss you have)\n",
      "Learning how to manage your boss is an essential skill. On this episode of ‘Secrets of the Most Productive People’ we explain exactly how to do it.\n",
      "https://www.fastcompany.com/90404692/the-secrets-to-managing-your-boss-no-matter-what-type-of-boss-you-have\n",
      "----------------------------------------------------------------------\n",
      "WORK LIFE\n",
      "Honesty turned around a sour business partnership. Here’s how.\n",
      "This insurance agent shares how to turn unsatisfied business partners into your biggest champions.\n",
      "https://www.fastcompany.com/90404222/how-to-turn-around-a-bad-business-partnership\n",
      "----------------------------------------------------------------------\n",
      "WORK LIFE\n",
      "With the U.S. startup visa on hold, immigrant entrepreneurs get creative\n",
      "The Trump administration has left the startup visa in limbo. One VC fund, Unshackled Ventures, is helping immigrant founders work around that.\n",
      "https://www.fastcompany.com/90403404/what-immigrant-entrepreneurs-can-do-without-a-startup-visa\n",
      "----------------------------------------------------------------------\n",
      "WORK LIFE\n",
      "How longer school days benefit working mothers\n",
      "In most states in the U.S., school days rarely match work schedules. This makes it harder to balance family obligations and full-time work, and mothers still bear most of the burden.\n",
      "https://www.fastcompany.com/90404540/how-longer-schooldays-benefit-working-mothers\n",
      "----------------------------------------------------------------------\n"
     ]
    }
   ],
   "source": [
    "uid = driver.find_element_by_class_name(\"all-feed__posts\")\n",
    "art = uid.find_elements_by_tag_name(\"article\")\n",
    "title = uid.find_elements_by_tag_name(\"h2\")\n",
    "for a in art:\n",
    "    print(a.text)\n",
    "    print(a.find_element_by_tag_name(\"a\").get_attribute(\"href\"))\n",
    "    print(\"-\"*70)"
   ]
  },
  {
   "cell_type": "code",
   "execution_count": 46,
   "metadata": {},
   "outputs": [
    {
     "name": "stdout",
     "output_type": "stream",
     "text": [
      "\n",
      "\n",
      "\n",
      "\n",
      "\n",
      "\n",
      "\n",
      "\n",
      "\n",
      "\n"
     ]
    }
   ],
   "source": [
    "import itertools\n",
    "uid = driver.find_element_by_class_name(\"all-feed__posts\")\n",
    "title = uid.find_elements_by_tag_name(\"h2\")\n",
    "desc = uid.find_elements_by_tag_name(\"h3\")\n",
    "\n",
    "list_articles = []\n",
    "\n",
    "for (t,d) in zip(title,desc):\n",
    "    try:\n",
    "        list_articles.append({\"title\":t.text,\"description\":desc.text})\n",
    "    except:\n",
    "        print(\"\")\n",
    "\n",
    "for a in list_articles:\n",
    "    print(a)\n",
    "    print(\"\\n\")"
   ]
  },
  {
   "cell_type": "code",
   "execution_count": 50,
   "metadata": {},
   "outputs": [
    {
     "name": "stdout",
     "output_type": "stream",
     "text": [
      "This is how to make the ‘slow work’ movement work for you\n",
      "The “always-on” style of work takes a toll on one’s mental and physical health. It’s time for a different approach.\n",
      "https://www.fastcompany.com/90405453/this-is-how-to-make-the-slow-work-movement-work-for-you\n",
      "----------------------------------------------------------------------\n",
      "Exclusive: Barclays and Anthemis launch startup studio for female founders\n",
      "After nearly a decade of investing in fintech, venture capital firm Anthemis is betting the studio model can diversify the sector more quickly.\n",
      "https://www.fastcompany.com/90405698/exclusive-barclays-and-anthemis-launch-startup-studio-for-female-founders\n",
      "----------------------------------------------------------------------\n",
      "4 interview mistakes you probably didn’t realize you were making\n",
      "Don’t regurgitate your résumé.\n",
      "https://www.fastcompany.com/90405322/4-common-interview-mistakes-made-by-interviewees\n",
      "----------------------------------------------------------------------\n",
      "Advice for founders dealing with defensive or troubled employees\n",
      "Two founders are grappling with very different worker issues, but both cases call for empathy.\n",
      "https://www.fastcompany.com/90404994/advice-for-founders-dealing-with-defensive-or-troubled-employees\n",
      "----------------------------------------------------------------------\n",
      "How my Latinx upbringing made me a better leader\n",
      "Chief people officer at Intel Sandra Rivera reflects on growing up Hispanic and what that taught her about business success.\n",
      "https://www.fastcompany.com/90405208/how-my-latinx-upbringing-made-me-a-better-leader\n",
      "----------------------------------------------------------------------\n",
      "5 ways emotionally intelligent people deal with impostor syndrome\n",
      "Emotional intelligence can help you shake impostor syndrome faster. Here’s how.\n",
      "https://www.fastcompany.com/90405013/5-ways-emotionally-intelligent-people-deal-with-impostor-syndrome\n",
      "----------------------------------------------------------------------\n",
      "The secrets to managing your boss (no matter what type of boss you have)\n",
      "Learning how to manage your boss is an essential skill. On this episode of ‘Secrets of the Most Productive People’ we explain exactly how to do it.\n",
      "https://www.fastcompany.com/90404692/the-secrets-to-managing-your-boss-no-matter-what-type-of-boss-you-have\n",
      "----------------------------------------------------------------------\n",
      "Honesty turned around a sour business partnership. Here’s how.\n",
      "This insurance agent shares how to turn unsatisfied business partners into your biggest champions.\n",
      "https://www.fastcompany.com/90404222/how-to-turn-around-a-bad-business-partnership\n",
      "----------------------------------------------------------------------\n",
      "With the U.S. startup visa on hold, immigrant entrepreneurs get creative\n",
      "The Trump administration has left the startup visa in limbo. One VC fund, Unshackled Ventures, is helping immigrant founders work around that.\n",
      "https://www.fastcompany.com/90403404/what-immigrant-entrepreneurs-can-do-without-a-startup-visa\n",
      "----------------------------------------------------------------------\n",
      "How longer school days benefit working mothers\n",
      "In most states in the U.S., school days rarely match work schedules. This makes it harder to balance family obligations and full-time work, and mothers still bear most of the burden.\n",
      "https://www.fastcompany.com/90404540/how-longer-schooldays-benefit-working-mothers\n",
      "----------------------------------------------------------------------\n",
      "{'title': 'This is how to make the ‘slow work’ movement work for you', 'description': 'The “always-on” style of work takes a toll on one’s mental and physical health. It’s time for a different approach.', 'link': 'https://www.fastcompany.com/90405453/this-is-how-to-make-the-slow-work-movement-work-for-you'}\n",
      "{'title': 'Exclusive: Barclays and Anthemis launch startup studio for female founders', 'description': 'After nearly a decade of investing in fintech, venture capital firm Anthemis is betting the studio model can diversify the sector more quickly.', 'link': 'https://www.fastcompany.com/90405698/exclusive-barclays-and-anthemis-launch-startup-studio-for-female-founders'}\n",
      "{'title': '4 interview mistakes you probably didn’t realize you were making', 'description': 'Don’t regurgitate your résumé.', 'link': 'https://www.fastcompany.com/90405322/4-common-interview-mistakes-made-by-interviewees'}\n",
      "{'title': 'Advice for founders dealing with defensive or troubled employees', 'description': 'Two founders are grappling with very different worker issues, but both cases call for empathy.', 'link': 'https://www.fastcompany.com/90404994/advice-for-founders-dealing-with-defensive-or-troubled-employees'}\n",
      "{'title': 'How my Latinx upbringing made me a better leader', 'description': 'Chief people officer at Intel Sandra Rivera reflects on growing up Hispanic and what that taught her about business success.', 'link': 'https://www.fastcompany.com/90405208/how-my-latinx-upbringing-made-me-a-better-leader'}\n",
      "{'title': '5 ways emotionally intelligent people deal with impostor syndrome', 'description': 'Emotional intelligence can help you shake impostor syndrome faster. Here’s how.', 'link': 'https://www.fastcompany.com/90405013/5-ways-emotionally-intelligent-people-deal-with-impostor-syndrome'}\n",
      "{'title': 'The secrets to managing your boss (no matter what type of boss you have)', 'description': 'Learning how to manage your boss is an essential skill. On this episode of ‘Secrets of the Most Productive People’ we explain exactly how to do it.', 'link': 'https://www.fastcompany.com/90404692/the-secrets-to-managing-your-boss-no-matter-what-type-of-boss-you-have'}\n",
      "{'title': 'Honesty turned around a sour business partnership. Here’s how.', 'description': 'This insurance agent shares how to turn unsatisfied business partners into your biggest champions.', 'link': 'https://www.fastcompany.com/90404222/how-to-turn-around-a-bad-business-partnership'}\n",
      "{'title': 'With the U.S. startup visa on hold, immigrant entrepreneurs get creative', 'description': 'The Trump administration has left the startup visa in limbo. One VC fund, Unshackled Ventures, is helping immigrant founders work around that.', 'link': 'https://www.fastcompany.com/90403404/what-immigrant-entrepreneurs-can-do-without-a-startup-visa'}\n",
      "{'title': 'How longer school days benefit working mothers', 'description': 'In most states in the U.S., school days rarely match work schedules. This makes it harder to balance family obligations and full-time work, and mothers still bear most of the burden.', 'link': 'https://www.fastcompany.com/90404540/how-longer-schooldays-benefit-working-mothers'}\n"
     ]
    }
   ],
   "source": [
    "uid = driver.find_element_by_class_name(\"all-feed__posts\")\n",
    "title = uid.find_elements_by_tag_name(\"h2\")\n",
    "desc = uid.find_elements_by_tag_name(\"h3\")\n",
    "link = uid.find_elements_by_tag_name(\"a\")\n",
    "list_articles = []\n",
    "for t,d,l in zip(title,desc,link):\n",
    "    print(t.text)\n",
    "    print(d.text)\n",
    "    print(l.get_attribute(\"href\"))\n",
    "    list_articles.append({\"title\":t.text,\"description\":d.text,\"link\":l.get_attribute(\"href\")})\n",
    "    print(\"-\"*70)\n",
    "    \n",
    "for a in list_articles:\n",
    "    print(a)"
   ]
  },
  {
   "cell_type": "code",
   "execution_count": null,
   "metadata": {},
   "outputs": [],
   "source": []
  }
 ],
 "metadata": {
  "kernelspec": {
   "display_name": "Python 3",
   "language": "python",
   "name": "python3"
  },
  "language_info": {
   "codemirror_mode": {
    "name": "ipython",
    "version": 3
   },
   "file_extension": ".py",
   "mimetype": "text/x-python",
   "name": "python",
   "nbconvert_exporter": "python",
   "pygments_lexer": "ipython3",
   "version": "3.7.3"
  }
 },
 "nbformat": 4,
 "nbformat_minor": 2
}
