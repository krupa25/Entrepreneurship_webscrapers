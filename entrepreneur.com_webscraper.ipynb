{
 "cells": [
  {
   "cell_type": "code",
   "execution_count": 2,
   "metadata": {},
   "outputs": [],
   "source": [
    "from selenium import webdriver\n",
    "import pandas as pd"
   ]
  },
  {
   "cell_type": "code",
   "execution_count": 3,
   "metadata": {},
   "outputs": [],
   "source": [
    "driver = webdriver.Chrome('C:/Users/My PC/Downloads/chromedriver')\n",
    "driver.get(\"https://www.entrepreneur.com/us\")"
   ]
  },
  {
   "cell_type": "code",
   "execution_count": 4,
   "metadata": {},
   "outputs": [
    {
     "name": "stdout",
     "output_type": "stream",
     "text": [
      "SALES\n",
      "4 Proven Sales Techniques for Introverts\n",
      "Hate making the hard sell to strangers? Learn these techniques to make sales without going too far outside your comfort zone.\n",
      "https://www.entrepreneur.com/article/331339\n",
      "----------------------------------------------------------------------\n",
      "1\n",
      "Time Management Is Actually a Waste of Time\n",
      "John Rampton | 7 min read\n",
      "https://www.entrepreneur.com/article/339431\n",
      "----------------------------------------------------------------------\n",
      "2\n",
      "4 Proven Sales Techniques for Introverts\n",
      "Levi King | 6 min read\n",
      "https://www.entrepreneur.com/article/331339\n",
      "----------------------------------------------------------------------\n",
      "3\n",
      "How Entrepreneurs Can Survive the Next Recession\n",
      "Per Bylund | 4 min read\n",
      "https://www.entrepreneur.com/article/338610\n",
      "----------------------------------------------------------------------\n",
      "4\n",
      "Learn The Simple Equation That Tells You If Your Business Will Grow and Scale\n",
      "Daniel Priestley | 6 min read\n",
      "https://www.entrepreneur.com/article/337745\n",
      "----------------------------------------------------------------------\n",
      "5\n",
      "How Do Millionaires Spend Their Money?\n",
      "Phil Town | 2 min read\n",
      "https://www.entrepreneur.com/video/339284\n",
      "----------------------------------------------------------------------\n"
     ]
    }
   ],
   "source": [
    "div = driver.find_element_by_class_name('pl-popular')\n",
    "p1 = div.find_elements_by_xpath('//*[@class=\"pl\"]')\n",
    "for p in p1:\n",
    "    print(p.text)\n",
    "    href = p.find_element_by_tag_name(\"a\")\n",
    "    print(href.get_attribute(\"href\"))\n",
    "    print(\"-\"*70)"
   ]
  },
  {
   "cell_type": "code",
   "execution_count": 6,
   "metadata": {},
   "outputs": [
    {
     "name": "stdout",
     "output_type": "stream",
     "text": [
      "{'title': 'Time Management Is Actually a Waste of Time', 'author': 'John Rampton', 'read_time': '7 min read', 'link': 'https://www.entrepreneur.com/article/331339'}\n",
      "\n",
      "\n",
      "{'title': '4 Proven Sales Techniques for Introverts', 'author': 'Levi King', 'read_time': '6 min read', 'link': 'https://www.entrepreneur.com/article/339431'}\n",
      "\n",
      "\n",
      "{'title': 'How Entrepreneurs Can Survive the Next Recession', 'author': 'Per Bylund', 'read_time': '4 min read', 'link': 'https://www.entrepreneur.com/article/331339'}\n",
      "\n",
      "\n",
      "{'title': 'Learn The Simple Equation That Tells You If Your Business Will Grow and Scale', 'author': 'Daniel Priestley', 'read_time': '6 min read', 'link': 'https://www.entrepreneur.com/article/338610'}\n",
      "\n",
      "\n",
      "{'title': 'How Do Millionaires Spend Their Money?', 'author': 'Phil Town', 'read_time': '2 min read', 'link': 'https://www.entrepreneur.com/article/337745'}\n",
      "\n",
      "\n"
     ]
    }
   ],
   "source": [
    "import itertools\n",
    "div1 = driver.find_element_by_class_name('pl-popular')\n",
    "p1 = div1.find_elements_by_xpath('//*[@class=\"pl\"]')\n",
    "# links = p1.find_elements_by_tag_name(\"a\")\n",
    "title = div1.find_elements_by_tag_name(\"h3\")\n",
    "author = div1.find_elements_by_class_name(\"name\")\n",
    "read_time = div1.find_elements_by_class_name(\"readtime\")\n",
    "\n",
    "list_articles = []\n",
    "\n",
    "for (t,a,r,l) in zip(title,author,read_time,p1):\n",
    "    try:\n",
    "        list_articles.append({\"title\":t.text,\"author\":a.text,\"read_time\":r.text,\"link\":l.find_element_by_tag_name(\"a\").get_attribute(\"href\")})\n",
    "    except:\n",
    "        print(\"\")\n",
    "\n",
    "for a in list_articles:\n",
    "    print(a)\n",
    "    print(\"\\n\")"
   ]
  },
  {
   "cell_type": "code",
   "execution_count": null,
   "metadata": {},
   "outputs": [],
   "source": []
  }
 ],
 "metadata": {
  "kernelspec": {
   "display_name": "Python 3",
   "language": "python",
   "name": "python3"
  },
  "language_info": {
   "codemirror_mode": {
    "name": "ipython",
    "version": 3
   },
   "file_extension": ".py",
   "mimetype": "text/x-python",
   "name": "python",
   "nbconvert_exporter": "python",
   "pygments_lexer": "ipython3",
   "version": "3.7.3"
  }
 },
 "nbformat": 4,
 "nbformat_minor": 2
}
