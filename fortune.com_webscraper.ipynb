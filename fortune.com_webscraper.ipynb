{
 "cells": [
  {
   "cell_type": "code",
   "execution_count": 1,
   "metadata": {},
   "outputs": [],
   "source": [
    "from selenium import webdriver\n",
    "import pandas as pd\n",
    "import bs4"
   ]
  },
  {
   "cell_type": "code",
   "execution_count": 112,
   "metadata": {},
   "outputs": [],
   "source": [
    "driver = webdriver.Chrome('C:/Users/My PC/Downloads/chromedriver')\n",
    "driver.get(\"https://fortune.com/section/leadership/\")"
   ]
  },
  {
   "cell_type": "code",
   "execution_count": 16,
   "metadata": {},
   "outputs": [
    {
     "name": "stdout",
     "output_type": "stream",
     "text": [
      "For XPRIZE’s CEO, Competitions Can ‘Crowdsource’ Solutions to ‘Humanity’s Great Challenges’\n",
      "“If you incentivize people and given them a target to hit, you have no idea what kind of innovations are going to come,” Anousheh Ansari said at the MPW International Summit in Toronto.\n",
      "PAID CONTENT\n",
      "Tackling Plastic Waste for a More Sustainable World\n",
      "From HP — HP is committed to reducing plastic by finding new ways to keep it out of its manufacturing processes. Eight...\n",
      "How Bill Gates Has Boosted His Net Worth By $16 Billion This Year\n",
      "The Microsoft founder is still in wealth-creation mode.\n",
      "Here's What You Need to Know About Israel's Elections\n",
      "Israelis are going to the polls for the second time this year. Here's what you need to know about the implications for Benjamin Netanyahu and rival Benny Gantz.\n",
      "Blackstone CEO Leadership Lesson: Think Big and Never Give Up\n",
      "Stephen Schwarzman shares his life lessons in building Blackstone Group into one of the world's most successful investment firms.\n",
      "The Markets' Fed Bet: CEO Daily\n",
      "Must-read business news, delivered every morning.\n",
      "Changing Oil Landscapes: CEO Daily\n",
      "Must-read business news, delivered every morning.\n",
      "GM's Autoworker Strike Could Cost the Carmaker $50 Million a Day\n",
      "Some 46,000 members of the United Auto Workers union began a nationwide strike against General Motors on September 16 — its first in 12 years — after contract talks hit an impasse.\n",
      "1 - 7 of 27,255 results\n",
      "1\n",
      "2\n",
      "3\n",
      "…\n",
      "3,894\n",
      "Next\n",
      "Most Popular Posts\n",
      "Former PepsiCo CEO Aims to Create a ‘Sisterhood’ of Women Leaders\n",
      "Danielle Abril\n",
      "Why Bill Gates Thinks It’s Time to End Subsidies for Wind and Solar Power\n",
      "Christopher Martin\n",
      "Uber Now Knows If Your Ride Has Gone Wrong—By Tapping Your Smartphone’s Sensors\n",
      "Lisa Marie Segarra\n",
      "Patrón’s Latest Release Is Its Oldest Tequila Ever—And You Can Probably Afford It\n",
      "Emily Price\n",
      "**********************************************************************\n"
     ]
    }
   ],
   "source": [
    "uid = driver.find_elements_by_class_name(\"termArchiveWrapper__flexContainer--2_Mrc\")\n",
    "title = driver.find_elements_by_class_name(\"termArchiveContentListItem__title--14jcP\")\n",
    "for a in uid:\n",
    "    print(a.text)\n",
    "    print(\"*\"*70)"
   ]
  },
  {
   "cell_type": "code",
   "execution_count": 113,
   "metadata": {},
   "outputs": [
    {
     "name": "stdout",
     "output_type": "stream",
     "text": [
      "{'https://fortune.com/2019/09/18/israel-second-elections-netanyahu-gantz/': 1, 'https://fortune.com/sponsored?prx_t=6TQFA9QQ7AovEQA&ntv_fr': 3, 'https://fortune.com/2019/09/18/us-china-strategy-ceo-daily/': 1, 'https://fortune.com/2019/09/17/xprize-ceo-anousheh-ansari-mpw-international/': 1, 'https://fortune.com/2019/09/17/bill-gates-net-worth-2019-money-strategy-investing-taxes/': 1, 'https://fortune.com/2019/09/17/israel-repeat-election-netanyahu-gantz-trump/': 1, 'https://fortune.com/2019/09/17/blackstone-ceo-stephen-schwarzman-leadership-book/': 1, 'https://fortune.com/2019/09/17/markets-fed-bet-ceo-daily/': 1}\n",
      "['https://fortune.com/2019/09/18/israel-second-elections-netanyahu-gantz/', 'https://fortune.com/sponsored?prx_t=6TQFA9QQ7AovEQA&ntv_fr', 'https://fortune.com/2019/09/18/us-china-strategy-ceo-daily/', 'https://fortune.com/2019/09/17/xprize-ceo-anousheh-ansari-mpw-international/', 'https://fortune.com/2019/09/17/bill-gates-net-worth-2019-money-strategy-investing-taxes/', 'https://fortune.com/2019/09/17/israel-repeat-election-netanyahu-gantz-trump/', 'https://fortune.com/2019/09/17/blackstone-ceo-stephen-schwarzman-leadership-book/', 'https://fortune.com/2019/09/17/markets-fed-bet-ceo-daily/']\n",
      "8\n"
     ]
    }
   ],
   "source": [
    "uid = driver.find_elements_by_class_name(\"termArchiveContentList__item--1LvxK\")\n",
    "# href = desc.get_attribute(\"href\")\n",
    "links =[]\n",
    "for a in uid:\n",
    "    desc = a.find_elements_by_tag_name(\"a\")\n",
    "    for d in desc:\n",
    "        links.append(d.get_attribute(\"href\"))\n",
    "        \n",
    "result = dict((i, links.count(i)) for i in links)\n",
    "print(result)\n",
    "final_links=[]\n",
    "for i in result:\n",
    "    if i not in final_links:\n",
    "        final_links.append(i)\n",
    "        \n",
    "print(final_links)\n",
    "print(len(final_links))"
   ]
  },
  {
   "cell_type": "code",
   "execution_count": 119,
   "metadata": {},
   "outputs": [
    {
     "name": "stdout",
     "output_type": "stream",
     "text": [
      "{'title': 'Exclusive: Venture Firm Data Collective Raises $725 Million to Invest in ‘Deep Tech’', 'desc': 'The firm invests in companies solving highly technical problems.', 'link': 'https://fortune.com/2019/09/18/israel-second-elections-netanyahu-gantz/'}\n",
      "\n",
      "\n",
      "{'title': 'Tackling Plastic Waste for a More Sustainable World', 'desc': 'From HP — HP is committed to reducing plastic by finding new ways to keep it out of its manufacturing processes. Eight...', 'link': 'https://fortune.com/sponsored?prx_t=6TQFA9QQ7AovEQA&ntv_fr'}\n",
      "\n",
      "\n",
      "{'title': \"Why Tuesday's 10% Drop in FedEx Shares Is Bad News for the Global Economy\", 'desc': '\"I think there\\'s a lot of whistling past the graveyard about the U.S. consumer and the U.S. economy,\" said FedEx CEO Fred Smith.', 'link': 'https://fortune.com/2019/09/18/us-china-strategy-ceo-daily/'}\n",
      "\n",
      "\n",
      "{'title': 'Brazilians Hate Their Banks. This $10 Billion Startup Wants to Change That', 'desc': \"Old guard institutions like Itau Unibanco charge some of the world's highest fees. The co-founder of Nubank is building an online banking alternative.\", 'link': 'https://fortune.com/2019/09/17/xprize-ceo-anousheh-ansari-mpw-international/'}\n",
      "\n",
      "\n",
      "{'title': 'How Bill Gates Has Boosted His Net Worth By $16 Billion This Year', 'desc': 'The Microsoft founder is still in wealth-creation mode.', 'link': 'https://fortune.com/2019/09/17/bill-gates-net-worth-2019-money-strategy-investing-taxes/'}\n",
      "\n",
      "\n",
      "{'title': 'Blackstone CEO Steve Schwarzman on Hong Kong’s Unrest, the Rise of Bitcoin, and Fundraising as an ‘Out-of-Body Experience’', 'desc': 'Schwarzman addresses what’s going on at Blackstone — and what’s next for him.', 'link': 'https://fortune.com/2019/09/17/israel-repeat-election-netanyahu-gantz-trump/'}\n",
      "\n",
      "\n",
      "{'title': 'Blackstone CEO Leadership Lesson: Think Big and Never Give Up', 'desc': \"Stephen Schwarzman shares his life lessons in building Blackstone Group into one of the world's most successful investment firms.\", 'link': 'https://fortune.com/2019/09/17/blackstone-ceo-stephen-schwarzman-leadership-book/'}\n",
      "\n",
      "\n",
      "{'title': \"WeWork May Delay Its IPO. Here's Why the Market Shouldn't Worry\", 'desc': \"The problems plaguing WeWork are self-inflicted, and don't reflect the broader IPO market.\", 'link': 'https://fortune.com/2019/09/17/markets-fed-bet-ceo-daily/'}\n",
      "\n",
      "\n"
     ]
    }
   ],
   "source": [
    "# articles = driver.find_element_by_class_name('termArchiveWrapper__flexContainer--2_Mrc')\n",
    "title = driver.find_elements_by_class_name(\"termArchiveContentListItem__title--14jcP\")\n",
    "desc = driver.find_elements_by_class_name(\"termArchiveContentListItem__excerpt--PGKC2\")\n",
    "links = driver.find_elements_by_class_name(\"termArchiveContentList__item--1LvxK\")\n",
    "list_articles= []\n",
    "for (t,d,l) in zip(title,desc,final_links):\n",
    "    try:\n",
    "        list_articles.append({\"title\":t.text,\"desc\":d.text,\"link\":l})\n",
    "    except:\n",
    "        print(\"\")\n",
    "\n",
    "for a in list_articles:\n",
    "    print(a)\n",
    "    print(\"\\n\")"
   ]
  },
  {
   "cell_type": "code",
   "execution_count": 116,
   "metadata": {},
   "outputs": [],
   "source": [
    "driver.get(\"https://fortune.com/section/finance/\")"
   ]
  },
  {
   "cell_type": "code",
   "execution_count": 118,
   "metadata": {},
   "outputs": [
    {
     "name": "stdout",
     "output_type": "stream",
     "text": [
      "{'title': 'Exclusive: Venture Firm Data Collective Raises $725 Million to Invest in ‘Deep Tech’', 'desc': 'The firm invests in companies solving highly technical problems.', 'link': 'https://fortune.com/2019/09/18/venture-capital-firm-dcvc-raises-new-fund/'}\n",
      "\n",
      "\n",
      "{'title': 'Tackling Plastic Waste for a More Sustainable World', 'desc': 'From HP — HP is committed to reducing plastic by finding new ways to keep it out of its manufacturing processes. Eight...', 'link': 'https://fortune.com/sponsored?prx_t=6TQFA9gQ7AovEQA&&ntv_fpc=5e0d19a5-073f-419e-bab3-dc538fb2f9dd&ntv_fr'}\n",
      "\n",
      "\n",
      "{'title': \"Why Tuesday's 10% Drop in FedEx Shares Is Bad News for the Global Economy\", 'desc': '\"I think there\\'s a lot of whistling past the graveyard about the U.S. consumer and the U.S. economy,\" said FedEx CEO Fred Smith.', 'link': 'https://fortune.com/2019/09/17/nubank-brazil-digital-banking-startup/'}\n",
      "\n",
      "\n",
      "{'title': 'Brazilians Hate Their Banks. This $10 Billion Startup Wants to Change That', 'desc': \"Old guard institutions like Itau Unibanco charge some of the world's highest fees. The co-founder of Nubank is building an online banking alternative.\", 'link': 'https://fortune.com/2019/09/17/bill-gates-net-worth-2019-money-strategy-investing-taxes/'}\n",
      "\n",
      "\n",
      "{'title': 'How Bill Gates Has Boosted His Net Worth By $16 Billion This Year', 'desc': 'The Microsoft founder is still in wealth-creation mode.', 'link': 'https://fortune.com/2019/09/17/blackstone-ceo-steve-schwarzman-on-hong-kongs-unrest-the-rise-of-bitcoin-and-fundraising-as-an-out-of-body-experience/'}\n",
      "\n",
      "\n",
      "{'title': 'Blackstone CEO Steve Schwarzman on Hong Kong’s Unrest, the Rise of Bitcoin, and Fundraising as an ‘Out-of-Body Experience’', 'desc': 'Schwarzman addresses what’s going on at Blackstone — and what’s next for him.', 'link': 'https://fortune.com/2019/09/17/blackstone-ceo-stephen-schwarzman-leadership-book/'}\n",
      "\n",
      "\n",
      "{'title': 'Blackstone CEO Leadership Lesson: Think Big and Never Give Up', 'desc': \"Stephen Schwarzman shares his life lessons in building Blackstone Group into one of the world's most successful investment firms.\", 'link': 'https://fortune.com/2019/09/17/postponed-wework-ipo-wouldnt-be-bad-news-ipo-market/'}\n",
      "\n",
      "\n"
     ]
    }
   ],
   "source": [
    "# articles = driver.find_element_by_class_name('termArchiveWrapper__flexContainer--2_Mrc')\n",
    "title = driver.find_elements_by_class_name(\"termArchiveContentListItem__title--14jcP\")\n",
    "desc = driver.find_elements_by_class_name(\"termArchiveContentListItem__excerpt--PGKC2\")\n",
    "links = driver.find_elements_by_class_name(\"termArchiveContentList__item--1LvxK\")\n",
    "list_articles= []\n",
    "for (t,d,l) in zip(title,desc,links):\n",
    "    try:\n",
    "        list_articles.append({\"title\":t.text,\"desc\":d.text,\"link\":l.find_element_by_tag_name(\"a\").get_attribute(\"href\")})\n",
    "    except:\n",
    "        print(\"\")\n",
    "\n",
    "for a in list_articles:\n",
    "    print(a)\n",
    "    print(\"\\n\")             "
   ]
  },
  {
   "cell_type": "code",
   "execution_count": null,
   "metadata": {},
   "outputs": [],
   "source": []
  }
 ],
 "metadata": {
  "kernelspec": {
   "display_name": "Python 3",
   "language": "python",
   "name": "python3"
  },
  "language_info": {
   "codemirror_mode": {
    "name": "ipython",
    "version": 3
   },
   "file_extension": ".py",
   "mimetype": "text/x-python",
   "name": "python",
   "nbconvert_exporter": "python",
   "pygments_lexer": "ipython3",
   "version": "3.7.3"
  }
 },
 "nbformat": 4,
 "nbformat_minor": 2
}
