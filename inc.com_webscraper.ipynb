{
 "cells": [
  {
   "cell_type": "code",
   "execution_count": 4,
   "metadata": {},
   "outputs": [],
   "source": [
    "from selenium import webdriver\n",
    "import bs4\n",
    "import pandas as pd"
   ]
  },
  {
   "cell_type": "code",
   "execution_count": 5,
   "metadata": {},
   "outputs": [],
   "source": [
    "driver = webdriver.Chrome('C:/Users/My PC/Downloads/chromedriver')\n",
    "driver.get(\"https://www.inc.com/startup\")"
   ]
  },
  {
   "cell_type": "code",
   "execution_count": 13,
   "metadata": {},
   "outputs": [
    {
     "name": "stdout",
     "output_type": "stream",
     "text": [
      "\n",
      "\n",
      "{'title': 'How I Took My Company From a Garage to Being Traded on the Stock Exchange', 'by': 'QUORA', 'link': 'http://www.inc.com/quora/how-i-took-my-company-from-a-garage-to-being-traded-on-stock-exchange.html?cid=landermore'}\n",
      "\n",
      "\n",
      "{'title': '9 Questions to Ask Yourself Before Starting a Startup', 'by': 'CATHY HUYGHE', 'link': 'http://www.inc.com/cathy-huyghe/9-questions-to-ask-yourself-before-starting-a-startup.html?cid=landermore'}\n",
      "\n",
      "\n",
      "{'title': 'New Startup Community: Replicate vs Innovate?', 'by': 'CHRIS HEIVLY', 'link': 'http://www.inc.com/chris-heivly/new-startup-community-replicate-vs-innovate.html?cid=landermore'}\n",
      "\n",
      "\n",
      "{'title': 'How Can Entrepreneurs Assess Their Product-Market Fit?', 'by': 'QUORA', 'link': 'http://www.inc.com/quora/how-can-entrepreneurs-assess-their-product-market-fit.html?cid=landermore'}\n",
      "\n",
      "\n",
      "{'title': 'How to Deal with Negative Attention on Social Media and Prevent Further Damage to Your Brand', 'by': 'HILLEL FULD', 'link': 'http://www.inc.com/hillel-fuld/how-to-deal-with-negative-attention-on-social-media-prevent-further-damage-to-your-brand.html?cid=landermore'}\n",
      "\n",
      "\n",
      "{'title': 'Need Capital for Your New Business? Here are Three Ways to Get the Money You Need', 'by': 'DUSTIN MCKISSEN', 'link': 'http://www.inc.com/dustin-mckissen/need-capital-for-your-new-business-here-are-three-ways-to-get-money-you-need.html?cid=landermore'}\n",
      "\n",
      "\n",
      "{'title': 'Billions of YouTube Views and Counting: How This Director Bootstrapped His Way to Filmmaking Success (and the MTV Video Music Awards)', 'by': 'JEFF HADEN', 'link': 'http://www.inc.com/jeff-haden/billions-of-youtube-views-counting-how-this-director-bootstrapped-his-way-to-filmmaking-success-and-mtv-video-music-awards.html?cid=landermore'}\n",
      "\n",
      "\n",
      "{'title': 'How to Deal With Uncertainty', 'by': 'MANDY GILBERT', 'link': 'http://www.inc.com/mandy-gilbert/how-to-deal-with-uncertainty.html?cid=landermore'}\n",
      "\n",
      "\n",
      "{'title': \"WeWork Plans to List on Nasdaq and Limit Founder Adam Neumann's Power Over the Company\", 'by': 'ASSOCIATED PRESS', 'link': 'http://www.inc.com/associated-press/wework-ipo-nasdaq-adam-neumann.html?cid=landermore'}\n",
      "\n",
      "\n",
      "{'title': 'What is Venture Capital and How to Know if VC Funding is a Good Idea for Your Startup', 'by': 'JOHN BOITNOTT', 'link': 'http://www.inc.com/john-boitnott/what-is-venture-capital-how-to-know-if-vc-funding-is-a-good-idea-for-your-startup.html?cid=landermore'}\n",
      "\n",
      "\n"
     ]
    }
   ],
   "source": [
    "uid = driver.find_element_by_class_name(\"river-articles-holder\")\n",
    "\n",
    "articles = uid.find_elements_by_class_name(\"row\")\n",
    "# print(len(articles))\n",
    "list_articles= []\n",
    "for a in articles:\n",
    "    try:\n",
    "        title = a.find_element_by_tag_name('h2')\n",
    "        by = a.find_element_by_class_name(\"byline\")\n",
    "        link = title.find_element_by_tag_name(\"a\")\n",
    "        list_articles.append({\"title\":a.find_element_by_tag_name('h2').text,\"by\":by.find_element_by_css_selector('a').text,\"link\":link.get_attribute(\"href\")})\n",
    "    except:\n",
    "        print(\"\")\n",
    "\n",
    "for i in list_articles:\n",
    "    print(i)\n",
    "    print(\"\\n\")\n",
    "# print(list_articles)\n",
    "#     print(len(a))\n",
    "#     print(a.text+\"\\n\")\n",
    "# for a in uid:\n",
    "    \n",
    "#     print(\"-\"*70)"
   ]
  },
  {
   "cell_type": "code",
   "execution_count": null,
   "metadata": {},
   "outputs": [],
   "source": []
  }
 ],
 "metadata": {
  "kernelspec": {
   "display_name": "Python 3",
   "language": "python",
   "name": "python3"
  },
  "language_info": {
   "codemirror_mode": {
    "name": "ipython",
    "version": 3
   },
   "file_extension": ".py",
   "mimetype": "text/x-python",
   "name": "python",
   "nbconvert_exporter": "python",
   "pygments_lexer": "ipython3",
   "version": "3.7.3"
  }
 },
 "nbformat": 4,
 "nbformat_minor": 2
}
